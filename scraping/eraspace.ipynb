{
 "cells": [
  {
   "cell_type": "code",
   "execution_count": 1,
   "metadata": {},
   "outputs": [],
   "source": [
    "from selenium import webdriver\n",
    "from selenium.webdriver.chrome.options import Options\n",
    "from selenium.common.exceptions import NoSuchElementException"
   ]
  },
  {
   "cell_type": "code",
   "execution_count": 2,
   "metadata": {},
   "outputs": [],
   "source": [
    "import re"
   ]
  },
  {
   "cell_type": "code",
   "execution_count": 3,
   "metadata": {},
   "outputs": [],
   "source": [
    "import json"
   ]
  },
  {
   "cell_type": "code",
   "execution_count": 4,
   "metadata": {},
   "outputs": [],
   "source": [
    "# import urllib.request"
   ]
  },
  {
   "cell_type": "code",
   "execution_count": 5,
   "metadata": {},
   "outputs": [],
   "source": [
    "url = \"https://eraspace.com/eraspace/smartphone-tablet/smartphones\""
   ]
  },
  {
   "cell_type": "code",
   "execution_count": 6,
   "metadata": {},
   "outputs": [],
   "source": [
    "driver_options = Options()\n",
    "driver_options.add_argument(\"headless\")"
   ]
  },
  {
   "cell_type": "code",
   "execution_count": 7,
   "metadata": {},
   "outputs": [],
   "source": [
    "driver = webdriver.Chrome(options=driver_options)"
   ]
  },
  {
   "cell_type": "code",
   "execution_count": 8,
   "metadata": {},
   "outputs": [],
   "source": [
    "driver.implicitly_wait(10)"
   ]
  },
  {
   "cell_type": "code",
   "execution_count": 9,
   "metadata": {},
   "outputs": [],
   "source": [
    "driver.get(url)"
   ]
  },
  {
   "cell_type": "code",
   "execution_count": 10,
   "metadata": {},
   "outputs": [
    {
     "name": "stdout",
     "output_type": "stream",
     "text": [
      "https://eraspace.com/eraspace/smartphone-tablet/smartphones\n"
     ]
    }
   ],
   "source": [
    "print(driver.current_url)"
   ]
  },
  {
   "cell_type": "code",
   "execution_count": 11,
   "metadata": {},
   "outputs": [],
   "source": [
    "products = []"
   ]
  },
  {
   "cell_type": "code",
   "execution_count": 12,
   "metadata": {},
   "outputs": [],
   "source": [
    "while True:\n",
    "    for product in driver.find_elements_by_class_name('product-item-info'):\n",
    "        if product.text != '':\n",
    "            details = re.split('\\n', product.text)\n",
    "            tag = \"NONE\"\n",
    "            if len(details) == 2:\n",
    "                name = details[0]\n",
    "                price = details[1]\n",
    "            elif len(details) == 3:\n",
    "                if details[0] == \"PREORDER\" or details[0] == \"NEW\":\n",
    "                    tag = details[0]\n",
    "                    name = details[1]\n",
    "                    price = details[2]\n",
    "                else:\n",
    "                    name = details[0]\n",
    "                    price = details[1] + \" \" + details[2]\n",
    "            elif len(details) == 4:\n",
    "                tag = details[0]\n",
    "                name = details[1]\n",
    "                price = details[2] + details[3]\n",
    "\n",
    "            img = product.find_element_by_xpath(\"a[@class='product photo product-item-photo']/img[@class='photo image']\")\n",
    "            source = img.get_attribute('src')\n",
    "            products.append(\n",
    "                {\n",
    "                    'tag': tag,\n",
    "                    'name': name,\n",
    "                    'price': price,\n",
    "                    'image_src': source,\n",
    "                }\n",
    "            )\n",
    "\n",
    "    try:\n",
    "        driver.find_element_by_xpath(\"/html/body[@class='page-with-filter page-products categorypath-eraspace-smartphone-tablet-smartphones category-smartphones catalog-category-view page-layout-2columns-left']/div[@class='page-wrapper']/main[@id='maincontent']/div[@class='columns']/div[@class='column main']/div[@class='toolbar toolbar-products']/div[@class='pages']/ul[@class='items pages-items']/li[@class='item pages-item-next']/a[@class='action next']\").click()\n",
    "    except NoSuchElementException as e:\n",
    "        break;"
   ]
  },
  {
   "cell_type": "code",
   "execution_count": 13,
   "metadata": {},
   "outputs": [
    {
     "data": {
      "text/plain": [
       "[{'tag': 'PREORDER',\n",
       "  'name': 'Oppo Reno3 (8GB/128GB) FREE JBL Go Bluetooth Speaker',\n",
       "  'price': 'Rp. 5.199.000',\n",
       "  'image_src': 'https://eraspace.com/pub/media/catalog/product/cache/d03018dd3d9615b5c9bd12c6ee948951/o/p/oppo-reno3-black-0_2.jpg'},\n",
       " {'tag': 'PREORDER',\n",
       "  'name': 'Samsung Galaxy A51 (8GB/128GB) FREE Samsung Care+',\n",
       "  'price': 'Rp. 4.699.000',\n",
       "  'image_src': 'https://eraspace.com/pub/media/catalog/product/cache/d03018dd3d9615b5c9bd12c6ee948951/g/a/galaxy_a51_black_1_3.jpg'},\n",
       " {'tag': 'PREORDER',\n",
       "  'name': 'Oppo Find X2 Pro (12GB/512GB) FREE Oppo Enco Free TWS',\n",
       "  'price': 'Rp. 17.999.000',\n",
       "  'image_src': 'https://eraspace.com/pub/media/catalog/product/cache/d03018dd3d9615b5c9bd12c6ee948951/o/p/oppo-findx-pro-tea-orange-0.jpg'},\n",
       " {'tag': 'PREORDER',\n",
       "  'name': 'Oppo Find X2 (12GB/256GB) FREE Oppo Enco Free TWS',\n",
       "  'price': 'Rp. 14.999.000',\n",
       "  'image_src': 'https://eraspace.com/pub/media/catalog/product/cache/d03018dd3d9615b5c9bd12c6ee948951/o/p/oppo-findx-dark-sea-new-01-2.jpg'},\n",
       " {'tag': 'NEW',\n",
       "  'name': 'Samsung Galaxy S20 Ultra (12GB/128GB) FREE Bluetooth Speaker',\n",
       "  'price': 'Dari Rp. 17.749.000Sampai Rp. 21.248.000',\n",
       "  'image_src': 'https://eraspace.com/pub/media/catalog/product/cache/d03018dd3d9615b5c9bd12c6ee948951/g/a/galaxy_s20_ultra_cosmic_black_x3_bluetooth_speaker.jpg'},\n",
       " {'tag': 'NONE',\n",
       "  'name': 'Samsung Galaxy S20+ (8GB/128GB) FREE Bluetooth Speaker',\n",
       "  'price': 'Dari Rp. 13.749.000 Sampai Rp. 15.948.000',\n",
       "  'image_src': 'https://eraspace.com/pub/media/catalog/product/cache/d03018dd3d9615b5c9bd12c6ee948951/g/a/galaxy_s20_plus_cosmic_gray_x3_bluetooth_speaker.jpg'},\n",
       " {'tag': 'NONE',\n",
       "  'name': 'Huawei P30 Pro (8GB/256GB) + Freebuds 3',\n",
       "  'price': 'Rp. 11.898.000',\n",
       "  'image_src': 'https://eraspace.com/pub/media/catalog/product/cache/d03018dd3d9615b5c9bd12c6ee948951/h/u/huawei-p30-pro-aurora_freebuds_3.jpg'},\n",
       " {'tag': 'NONE',\n",
       "  'name': 'Huawei P30 Pro (8GB/256GB) + Watch GT2 46mm Fashion Version',\n",
       "  'price': 'Rp. 12.598.000',\n",
       "  'image_src': 'https://eraspace.com/pub/media/catalog/product/cache/d03018dd3d9615b5c9bd12c6ee948951/h/u/huawei-p30-pro-aurora_watch_gt2_male_fashion.jpg'},\n",
       " {'tag': 'NONE',\n",
       "  'name': 'Huawei P30 Pro (8GB/256GB) + Watch GT2 46mm Sports Version',\n",
       "  'price': 'Rp. 12.398.000',\n",
       "  'image_src': 'https://eraspace.com/pub/media/catalog/product/cache/d03018dd3d9615b5c9bd12c6ee948951/h/u/huawei-p30-pro-aurora_watch_gt2_male_sport.jpg'},\n",
       " {'tag': 'NONE',\n",
       "  'name': 'Huawei P30 Pro (8GB/256GB) + Watch GT2 42mm Sport Edition',\n",
       "  'price': 'Rp. 12.198.000',\n",
       "  'image_src': 'https://eraspace.com/pub/media/catalog/product/cache/d03018dd3d9615b5c9bd12c6ee948951/h/u/huawei-p30-pro-aurora_watch_gt2_42mm_sport.jpg'},\n",
       " {'tag': 'PREORDER',\n",
       "  'name': 'Vivo V19 (8GB/128GB) FREE Gift Box',\n",
       "  'price': 'Rp. 4.299.000',\n",
       "  'image_src': 'https://eraspace.com/pub/media/catalog/product/cache/d03018dd3d9615b5c9bd12c6ee948951/v/i/vivo_v19_arctic_blue_free_powerbank_10000_mah.jpg'},\n",
       " {'tag': 'NONE',\n",
       "  'name': 'Huawei Mate 30 Pro (8GB/256GB) + Watch GT2 46mm Fashion Version FREE FreeBuds Lite',\n",
       "  'price': 'Rp. 15.098.000',\n",
       "  'image_src': 'https://eraspace.com/pub/media/catalog/product/cache/d03018dd3d9615b5c9bd12c6ee948951/h/u/huaweimate30prowatch_gt2_46mm_fashion_free_freebuds.jpg'}]"
      ]
     },
     "execution_count": 13,
     "metadata": {},
     "output_type": "execute_result"
    }
   ],
   "source": [
    "products"
   ]
  },
  {
   "cell_type": "code",
   "execution_count": 14,
   "metadata": {},
   "outputs": [],
   "source": [
    "with open(\"result.json\", \"w\") as json_file:\n",
    "    json.dump(products, json_file)"
   ]
  },
  {
   "cell_type": "code",
   "execution_count": 15,
   "metadata": {},
   "outputs": [],
   "source": [
    "driver.close()"
   ]
  },
  {
   "cell_type": "code",
   "execution_count": null,
   "metadata": {},
   "outputs": [],
   "source": []
  }
 ],
 "metadata": {
  "kernelspec": {
   "display_name": "Python 3",
   "language": "python",
   "name": "python3"
  },
  "language_info": {
   "codemirror_mode": {
    "name": "ipython",
    "version": 3
   },
   "file_extension": ".py",
   "mimetype": "text/x-python",
   "name": "python",
   "nbconvert_exporter": "python",
   "pygments_lexer": "ipython3",
   "version": "3.8.2"
  }
 },
 "nbformat": 4,
 "nbformat_minor": 4
}
