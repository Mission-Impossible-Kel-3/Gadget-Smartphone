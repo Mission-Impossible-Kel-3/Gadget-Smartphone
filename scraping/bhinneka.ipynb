{
 "cells": [
  {
   "cell_type": "code",
   "execution_count": 18,
   "metadata": {},
   "outputs": [],
   "source": [
    "from selenium import webdriver\n",
    "from selenium.webdriver.chrome.options import Options\n",
    "from selenium.common.exceptions import NoSuchElementException\n",
    "import re\n",
    "import json"
   ]
  },
  {
   "cell_type": "code",
   "execution_count": 19,
   "metadata": {},
   "outputs": [],
   "source": [
    "url = \"https://www.bhinneka.com/jual-smart-phone/3457276\""
   ]
  },
  {
   "cell_type": "code",
   "execution_count": 20,
   "metadata": {},
   "outputs": [],
   "source": [
    "driver_options = Options()\n",
    "driver_options.add_argument(\"headless\")"
   ]
  },
  {
   "cell_type": "code",
   "execution_count": 21,
   "metadata": {},
   "outputs": [],
   "source": [
    "driver = webdriver.Chrome(options=driver_options)"
   ]
  },
  {
   "cell_type": "code",
   "execution_count": 22,
   "metadata": {},
   "outputs": [],
   "source": [
    "driver.implicitly_wait(10)"
   ]
  },
  {
   "cell_type": "code",
   "execution_count": 23,
   "metadata": {},
   "outputs": [],
   "source": [
    "driver.get(url)"
   ]
  },
  {
   "cell_type": "code",
   "execution_count": 24,
   "metadata": {},
   "outputs": [
    {
     "name": "stdout",
     "output_type": "stream",
     "text": [
      "https://www.bhinneka.com/jual-smart-phone/3457276\n"
     ]
    }
   ],
   "source": [
    "print(driver.current_url)"
   ]
  },
  {
   "cell_type": "code",
   "execution_count": 25,
   "metadata": {},
   "outputs": [],
   "source": [
    "products = []"
   ]
  },
  {
   "cell_type": "code",
   "execution_count": 26,
   "metadata": {},
   "outputs": [
    {
     "ename": "StaleElementReferenceException",
     "evalue": "Message: stale element reference: element is not attached to the page document\n  (Session info: headless chrome=79.0.3945.117)\n",
     "output_type": "error",
     "traceback": [
      "\u001b[0;31m---------------------------------------------------------------------------\u001b[0m",
      "\u001b[0;31mStaleElementReferenceException\u001b[0m            Traceback (most recent call last)",
      "\u001b[0;32m<ipython-input-26-711512b14fa8>\u001b[0m in \u001b[0;36m<module>\u001b[0;34m()\u001b[0m\n\u001b[1;32m      2\u001b[0m     \u001b[0mwrap\u001b[0m \u001b[0;34m=\u001b[0m \u001b[0mdriver\u001b[0m\u001b[0;34m.\u001b[0m\u001b[0mfind_element_by_id\u001b[0m\u001b[0;34m(\u001b[0m\u001b[0;34m\"productContent\"\u001b[0m\u001b[0;34m)\u001b[0m\u001b[0;34m\u001b[0m\u001b[0m\n\u001b[1;32m      3\u001b[0m     \u001b[0;32mfor\u001b[0m \u001b[0mproduct\u001b[0m \u001b[0;32min\u001b[0m \u001b[0mwrap\u001b[0m\u001b[0;34m.\u001b[0m\u001b[0mfind_elements_by_class_name\u001b[0m\u001b[0;34m(\u001b[0m\u001b[0;34m\"row\"\u001b[0m\u001b[0;34m)\u001b[0m\u001b[0;34m:\u001b[0m\u001b[0;34m\u001b[0m\u001b[0m\n\u001b[0;32m----> 4\u001b[0;31m         \u001b[0;32mif\u001b[0m \u001b[0;34m(\u001b[0m\u001b[0mproduct\u001b[0m\u001b[0;34m.\u001b[0m\u001b[0mtext\u001b[0m \u001b[0;34m!=\u001b[0m \u001b[0;34m\"\"\u001b[0m\u001b[0;34m)\u001b[0m\u001b[0;34m:\u001b[0m\u001b[0;34m\u001b[0m\u001b[0m\n\u001b[0m\u001b[1;32m      5\u001b[0m             \u001b[0mdetails\u001b[0m \u001b[0;34m=\u001b[0m \u001b[0mre\u001b[0m\u001b[0;34m.\u001b[0m\u001b[0msplit\u001b[0m\u001b[0;34m(\u001b[0m\u001b[0;34m'\\n'\u001b[0m\u001b[0;34m,\u001b[0m \u001b[0mproduct\u001b[0m\u001b[0;34m.\u001b[0m\u001b[0mtext\u001b[0m\u001b[0;34m)\u001b[0m\u001b[0;34m\u001b[0m\u001b[0m\n\u001b[1;32m      6\u001b[0m \u001b[0;34m\u001b[0m\u001b[0m\n",
      "\u001b[0;32m/home/reyrizki/.local/lib/python2.7/site-packages/selenium/webdriver/remote/webelement.pyc\u001b[0m in \u001b[0;36mtext\u001b[0;34m(self)\u001b[0m\n\u001b[1;32m     74\u001b[0m     \u001b[0;32mdef\u001b[0m \u001b[0mtext\u001b[0m\u001b[0;34m(\u001b[0m\u001b[0mself\u001b[0m\u001b[0;34m)\u001b[0m\u001b[0;34m:\u001b[0m\u001b[0;34m\u001b[0m\u001b[0m\n\u001b[1;32m     75\u001b[0m         \u001b[0;34m\"\"\"The text of the element.\"\"\"\u001b[0m\u001b[0;34m\u001b[0m\u001b[0m\n\u001b[0;32m---> 76\u001b[0;31m         \u001b[0;32mreturn\u001b[0m \u001b[0mself\u001b[0m\u001b[0;34m.\u001b[0m\u001b[0m_execute\u001b[0m\u001b[0;34m(\u001b[0m\u001b[0mCommand\u001b[0m\u001b[0;34m.\u001b[0m\u001b[0mGET_ELEMENT_TEXT\u001b[0m\u001b[0;34m)\u001b[0m\u001b[0;34m[\u001b[0m\u001b[0;34m'value'\u001b[0m\u001b[0;34m]\u001b[0m\u001b[0;34m\u001b[0m\u001b[0m\n\u001b[0m\u001b[1;32m     77\u001b[0m \u001b[0;34m\u001b[0m\u001b[0m\n\u001b[1;32m     78\u001b[0m     \u001b[0;32mdef\u001b[0m \u001b[0mclick\u001b[0m\u001b[0;34m(\u001b[0m\u001b[0mself\u001b[0m\u001b[0;34m)\u001b[0m\u001b[0;34m:\u001b[0m\u001b[0;34m\u001b[0m\u001b[0m\n",
      "\u001b[0;32m/home/reyrizki/.local/lib/python2.7/site-packages/selenium/webdriver/remote/webelement.pyc\u001b[0m in \u001b[0;36m_execute\u001b[0;34m(self, command, params)\u001b[0m\n\u001b[1;32m    631\u001b[0m             \u001b[0mparams\u001b[0m \u001b[0;34m=\u001b[0m \u001b[0;34m{\u001b[0m\u001b[0;34m}\u001b[0m\u001b[0;34m\u001b[0m\u001b[0m\n\u001b[1;32m    632\u001b[0m         \u001b[0mparams\u001b[0m\u001b[0;34m[\u001b[0m\u001b[0;34m'id'\u001b[0m\u001b[0;34m]\u001b[0m \u001b[0;34m=\u001b[0m \u001b[0mself\u001b[0m\u001b[0;34m.\u001b[0m\u001b[0m_id\u001b[0m\u001b[0;34m\u001b[0m\u001b[0m\n\u001b[0;32m--> 633\u001b[0;31m         \u001b[0;32mreturn\u001b[0m \u001b[0mself\u001b[0m\u001b[0;34m.\u001b[0m\u001b[0m_parent\u001b[0m\u001b[0;34m.\u001b[0m\u001b[0mexecute\u001b[0m\u001b[0;34m(\u001b[0m\u001b[0mcommand\u001b[0m\u001b[0;34m,\u001b[0m \u001b[0mparams\u001b[0m\u001b[0;34m)\u001b[0m\u001b[0;34m\u001b[0m\u001b[0m\n\u001b[0m\u001b[1;32m    634\u001b[0m \u001b[0;34m\u001b[0m\u001b[0m\n\u001b[1;32m    635\u001b[0m     \u001b[0;32mdef\u001b[0m \u001b[0mfind_element\u001b[0m\u001b[0;34m(\u001b[0m\u001b[0mself\u001b[0m\u001b[0;34m,\u001b[0m \u001b[0mby\u001b[0m\u001b[0;34m=\u001b[0m\u001b[0mBy\u001b[0m\u001b[0;34m.\u001b[0m\u001b[0mID\u001b[0m\u001b[0;34m,\u001b[0m \u001b[0mvalue\u001b[0m\u001b[0;34m=\u001b[0m\u001b[0mNone\u001b[0m\u001b[0;34m)\u001b[0m\u001b[0;34m:\u001b[0m\u001b[0;34m\u001b[0m\u001b[0m\n",
      "\u001b[0;32m/home/reyrizki/.local/lib/python2.7/site-packages/selenium/webdriver/remote/webdriver.pyc\u001b[0m in \u001b[0;36mexecute\u001b[0;34m(self, driver_command, params)\u001b[0m\n\u001b[1;32m    319\u001b[0m         \u001b[0mresponse\u001b[0m \u001b[0;34m=\u001b[0m \u001b[0mself\u001b[0m\u001b[0;34m.\u001b[0m\u001b[0mcommand_executor\u001b[0m\u001b[0;34m.\u001b[0m\u001b[0mexecute\u001b[0m\u001b[0;34m(\u001b[0m\u001b[0mdriver_command\u001b[0m\u001b[0;34m,\u001b[0m \u001b[0mparams\u001b[0m\u001b[0;34m)\u001b[0m\u001b[0;34m\u001b[0m\u001b[0m\n\u001b[1;32m    320\u001b[0m         \u001b[0;32mif\u001b[0m \u001b[0mresponse\u001b[0m\u001b[0;34m:\u001b[0m\u001b[0;34m\u001b[0m\u001b[0m\n\u001b[0;32m--> 321\u001b[0;31m             \u001b[0mself\u001b[0m\u001b[0;34m.\u001b[0m\u001b[0merror_handler\u001b[0m\u001b[0;34m.\u001b[0m\u001b[0mcheck_response\u001b[0m\u001b[0;34m(\u001b[0m\u001b[0mresponse\u001b[0m\u001b[0;34m)\u001b[0m\u001b[0;34m\u001b[0m\u001b[0m\n\u001b[0m\u001b[1;32m    322\u001b[0m             response['value'] = self._unwrap_value(\n\u001b[1;32m    323\u001b[0m                 response.get('value', None))\n",
      "\u001b[0;32m/home/reyrizki/.local/lib/python2.7/site-packages/selenium/webdriver/remote/errorhandler.pyc\u001b[0m in \u001b[0;36mcheck_response\u001b[0;34m(self, response)\u001b[0m\n\u001b[1;32m    240\u001b[0m                 \u001b[0malert_text\u001b[0m \u001b[0;34m=\u001b[0m \u001b[0mvalue\u001b[0m\u001b[0;34m[\u001b[0m\u001b[0;34m'alert'\u001b[0m\u001b[0;34m]\u001b[0m\u001b[0;34m.\u001b[0m\u001b[0mget\u001b[0m\u001b[0;34m(\u001b[0m\u001b[0;34m'text'\u001b[0m\u001b[0;34m)\u001b[0m\u001b[0;34m\u001b[0m\u001b[0m\n\u001b[1;32m    241\u001b[0m             \u001b[0;32mraise\u001b[0m \u001b[0mexception_class\u001b[0m\u001b[0;34m(\u001b[0m\u001b[0mmessage\u001b[0m\u001b[0;34m,\u001b[0m \u001b[0mscreen\u001b[0m\u001b[0;34m,\u001b[0m \u001b[0mstacktrace\u001b[0m\u001b[0;34m,\u001b[0m \u001b[0malert_text\u001b[0m\u001b[0;34m)\u001b[0m\u001b[0;34m\u001b[0m\u001b[0m\n\u001b[0;32m--> 242\u001b[0;31m         \u001b[0;32mraise\u001b[0m \u001b[0mexception_class\u001b[0m\u001b[0;34m(\u001b[0m\u001b[0mmessage\u001b[0m\u001b[0;34m,\u001b[0m \u001b[0mscreen\u001b[0m\u001b[0;34m,\u001b[0m \u001b[0mstacktrace\u001b[0m\u001b[0;34m)\u001b[0m\u001b[0;34m\u001b[0m\u001b[0m\n\u001b[0m\u001b[1;32m    243\u001b[0m \u001b[0;34m\u001b[0m\u001b[0m\n\u001b[1;32m    244\u001b[0m     \u001b[0;32mdef\u001b[0m \u001b[0m_value_or_default\u001b[0m\u001b[0;34m(\u001b[0m\u001b[0mself\u001b[0m\u001b[0;34m,\u001b[0m \u001b[0mobj\u001b[0m\u001b[0;34m,\u001b[0m \u001b[0mkey\u001b[0m\u001b[0;34m,\u001b[0m \u001b[0mdefault\u001b[0m\u001b[0;34m)\u001b[0m\u001b[0;34m:\u001b[0m\u001b[0;34m\u001b[0m\u001b[0m\n",
      "\u001b[0;31mStaleElementReferenceException\u001b[0m: Message: stale element reference: element is not attached to the page document\n  (Session info: headless chrome=79.0.3945.117)\n"
     ]
    }
   ],
   "source": [
    "while True:\n",
    "    wrap = driver.find_element_by_id(\"productContent\")\n",
    "    for product in wrap.find_elements_by_class_name(\"row\"):\n",
    "        if (product.text != \"\"):\n",
    "            details = re.split('\\n', product.text)\n",
    "            \n",
    "            name = details[0]\n",
    "            desc = details[1]\n",
    "            price = details[2]\n",
    "\n",
    "            img = product.find_element_by_css_selector(\"img.lazyload\")\n",
    "            source = img.get_attribute('data-src')\n",
    "\n",
    "            products.append(\n",
    "                {\n",
    "                    'name': name,\n",
    "                    'desc': desc,\n",
    "                    'price': price,\n",
    "                    'src': source,\n",
    "                }\n",
    "            )\n",
    "\n",
    "    try:\n",
    "        driver.find_element_by_xpath(\"/html/body[@class='bt-page bt-product-catalog --sticky-header']/div[@class='bt-page-wrapper']/div[3]/main[@class='product-list']/section[@id='productCatalog']/div[@class='bt-product-catalog-main container']/div[@class='row']/main[@id='productContent']/div[@id='pagination']/nav[@class='bt-pagination']/ul[@class='pagination']/li[10]/button[@class='btn btn-default']/span[@class='pt-icon-standard pt-icon-chevron-right']\").click()\n",
    "    except NoSuchElementException as e:\n",
    "        break"
   ]
  },
  {
   "cell_type": "code",
   "execution_count": 27,
   "metadata": {},
   "outputs": [
    {
     "data": {
      "text/plain": [
       "[{'desc': u'Cicilan Rp 149.917/bln',\n",
       "  'name': u'SAMSUNG Galaxy J4+ (SM-J415) 16GB/2GB - Gold',\n",
       "  'price': u'Rp 1.799.001',\n",
       "  'src': u'https://static.bmdstatic.com/pk/product/thumbnail/5bbc6dcc96bd5.jpg'},\n",
       " {'desc': u'Cicilan Rp 149.917/bln',\n",
       "  'name': u'SAMSUNG Galaxy J4+ (SM-J415) 16GB/2GB - Gold',\n",
       "  'price': u'Rp 1.799.001',\n",
       "  'src': u'https://static.bmdstatic.com/pk/product/thumbnail/5bbc6dcc96bd5.jpg'},\n",
       " {'desc': u'Cicilan Rp 149.917/bln',\n",
       "  'name': u'VIVO Y71 (16GB/2GB RAM) Gold',\n",
       "  'price': u'Rp 1.799.000',\n",
       "  'src': u'https://static.bmdstatic.com/pk/product/thumbnail/5aefc5b64c394.jpg'},\n",
       " {'desc': u'Cicilan Rp 158.250/bln',\n",
       "  'name': u'OPPO A71 (2018) 2GB/16GB - Blue',\n",
       "  'price': u'Rp 1.899.000',\n",
       "  'src': u'https://static.bmdstatic.com/pk/product/thumbnail/5afe4b13d08c5.jpg'},\n",
       " {'desc': u'Cicilan Rp 208.250/bln',\n",
       "  'name': u'Honor 9 Lite 3GB/32GB - Black',\n",
       "  'price': u'Rp 2.499.000',\n",
       "  'src': u'https://static.bmdstatic.com/pk/product/thumbnail/5b04d475cbea1.jpg'},\n",
       " {'desc': u'Cicilan Rp 208.250/bln',\n",
       "  'name': u'Honor 9 Lite 3GB/32GB - Blue',\n",
       "  'price': u'Rp 2.499.000',\n",
       "  'src': u'data:image/gif;base64,R0lGODdhAQABAPAAAMPDwwAAACwAAAAAAQABAAACAkQBADs='},\n",
       " {'desc': u'Cicilan Rp 1.299.917/bln',\n",
       "  'name': u'APPLE iPhone 7 256GB - Gold',\n",
       "  'price': u'Rp 15.599.000',\n",
       "  'src': u'data:image/gif;base64,R0lGODdhAQABAPAAAMPDwwAAACwAAAAAAQABAAACAkQBADs='},\n",
       " {'desc': u'Cicilan Rp 1.166.583/bln',\n",
       "  'name': u'APPLE iPhone 7 Plus 32GB - Silver',\n",
       "  'price': u'Rp 13.999.000',\n",
       "  'src': u'data:image/gif;base64,R0lGODdhAQABAPAAAMPDwwAAACwAAAAAAQABAAACAkQBADs='},\n",
       " {'desc': u'Cicilan Rp 1.141.583/bln',\n",
       "  'name': u'APPLE iPhone 7 128GB - Gold',\n",
       "  'price': u'Rp 13.699.000',\n",
       "  'src': u'data:image/gif;base64,R0lGODdhAQABAPAAAMPDwwAAACwAAAAAAQABAAACAkQBADs='},\n",
       " {'desc': u'Cicilan Rp 358.250/bln',\n",
       "  'name': u'VIVO V9 64GB/6GB - Black',\n",
       "  'price': u'Rp 4.299.000',\n",
       "  'src': u'data:image/gif;base64,R0lGODdhAQABAPAAAMPDwwAAACwAAAAAAQABAAACAkQBADs='},\n",
       " {'desc': u'Cicilan Rp 358.250/bln',\n",
       "  'name': u'VIVO V9 64GB/6GB - Red',\n",
       "  'price': u'Rp 4.299.000',\n",
       "  'src': u'data:image/gif;base64,R0lGODdhAQABAPAAAMPDwwAAACwAAAAAAQABAAACAkQBADs='},\n",
       " {'desc': u'Cicilan Rp 1.158.250/bln',\n",
       "  'name': u'APPLE iPhone 6s Plus 128GB - Grey',\n",
       "  'price': u'Rp 13.899.000',\n",
       "  'src': u'data:image/gif;base64,R0lGODdhAQABAPAAAMPDwwAAACwAAAAAAQABAAACAkQBADs='},\n",
       " {'desc': u'Cicilan Rp 916.583/bln',\n",
       "  'name': u'APPLE iPhone 7 32GB - Rose Gold',\n",
       "  'price': u'Rp 11.999.000-8%',\n",
       "  'src': u'data:image/gif;base64,R0lGODdhAQABAPAAAMPDwwAAACwAAAAAAQABAAACAkQBADs='},\n",
       " {'desc': u'Cicilan Rp 1.474.917/bln',\n",
       "  'name': u'APPLE iPhone XR 256GB - White',\n",
       "  'price': u'Rp 17.699.000',\n",
       "  'src': u'data:image/gif;base64,R0lGODdhAQABAPAAAMPDwwAAACwAAAAAAQABAAACAkQBADs='},\n",
       " {'desc': u'Cicilan Rp 1.308.250/bln',\n",
       "  'name': u'APPLE iPhone XR 128GB - Blue',\n",
       "  'price': u'Rp 15.699.000',\n",
       "  'src': u'data:image/gif;base64,R0lGODdhAQABAPAAAMPDwwAAACwAAAAAAQABAAACAkQBADs='},\n",
       " {'desc': u'Cicilan Rp 1.224.917/bln',\n",
       "  'name': u'APPLE iPhone XR 64GB - Red',\n",
       "  'price': u'Rp 14.699.000',\n",
       "  'src': u'data:image/gif;base64,R0lGODdhAQABAPAAAMPDwwAAACwAAAAAAQABAAACAkQBADs='},\n",
       " {'desc': u'Cicilan Rp 133.250/bln',\n",
       "  'name': u'Honor 7s 16GB/2GB - Blue',\n",
       "  'price': u'Rp 1.599.000',\n",
       "  'src': u'data:image/gif;base64,R0lGODdhAQABAPAAAMPDwwAAACwAAAAAAQABAAACAkQBADs='},\n",
       " {'desc': u'Cicilan Rp 133.250/bln',\n",
       "  'name': u'Honor 7s 16GB/2GB - Black',\n",
       "  'price': u'Rp 1.599.000',\n",
       "  'src': u'data:image/gif;base64,R0lGODdhAQABAPAAAMPDwwAAACwAAAAAAQABAAACAkQBADs='},\n",
       " {'desc': u'Cicilan Rp 166.583/bln',\n",
       "  'name': u'XIAOMI Redmi 5 (32GB/3GB) Black',\n",
       "  'price': u'Rp 2.199.000-9%',\n",
       "  'src': u'data:image/gif;base64,R0lGODdhAQABAPAAAMPDwwAAACwAAAAAAQABAAACAkQBADs='},\n",
       " {'desc': u'Cicilan Rp 1.324.917/bln',\n",
       "  'name': u'APPLE iPhone 7 Plus 128GB - Gold',\n",
       "  'price': u'Rp 15.899.000',\n",
       "  'src': u'data:image/gif;base64,R0lGODdhAQABAPAAAMPDwwAAACwAAAAAAQABAAACAkQBADs='},\n",
       " {'desc': u'Cicilan Rp 1.474.917/bln',\n",
       "  'name': u'APPLE iPhone 7 Plus 256GB - Jet Black',\n",
       "  'price': u'Rp 17.699.000',\n",
       "  'src': u'data:image/gif;base64,R0lGODdhAQABAPAAAMPDwwAAACwAAAAAAQABAAACAkQBADs='},\n",
       " {'desc': u'Cicilan Rp 1.074.917/bln',\n",
       "  'name': u'APPLE iPhone 7 128GB - Jet Black',\n",
       "  'price': u'Rp 13.699.000-6%',\n",
       "  'src': u'data:image/gif;base64,R0lGODdhAQABAPAAAMPDwwAAACwAAAAAAQABAAACAkQBADs='},\n",
       " {'desc': u'Cicilan Rp 1.299.917/bln',\n",
       "  'name': u'APPLE iPhone 7 256GB - Silver',\n",
       "  'price': u'Rp 15.599.000',\n",
       "  'src': u'data:image/gif;base64,R0lGODdhAQABAPAAAMPDwwAAACwAAAAAAQABAAACAkQBADs='},\n",
       " {'desc': u'Cicilan Rp 199.917/bln',\n",
       "  'name': u'SAMSUNG Galaxy J7 Core - Gold',\n",
       "  'price': u'Rp 2.399.000',\n",
       "  'src': u'data:image/gif;base64,R0lGODdhAQABAPAAAMPDwwAAACwAAAAAAQABAAACAkQBADs='},\n",
       " {'desc': u'Cicilan Rp 366.583/bln',\n",
       "  'name': u'SAMSUNG Galaxy A50s 6GB/128GB - Prism Crush Green',\n",
       "  'price': u'Rp 4.399.000',\n",
       "  'src': u'data:image/gif;base64,R0lGODdhAQABAPAAAMPDwwAAACwAAAAAAQABAAACAkQBADs='},\n",
       " {'desc': u'Cicilan Rp 208.250/bln',\n",
       "  'name': u'XIAOMI Redmi Note 8 4GB/64GB - Neptune Blue',\n",
       "  'price': u'Rp 2.499.000',\n",
       "  'src': u'data:image/gif;base64,R0lGODdhAQABAPAAAMPDwwAAACwAAAAAAQABAAACAkQBADs='},\n",
       " {'desc': u'Cicilan Rp 183.250/bln',\n",
       "  'name': u'XIAOMI Redmi Note 8 3GB/32GB - Space Black',\n",
       "  'price': u'Rp 2.199.000',\n",
       "  'src': u'data:image/gif;base64,R0lGODdhAQABAPAAAMPDwwAAACwAAAAAAQABAAACAkQBADs='},\n",
       " {'desc': u'Cicilan Rp 183.250/bln',\n",
       "  'name': u'XIAOMI Redmi Note 8 3GB/32GB - Moonlight White',\n",
       "  'price': u'Rp 2.199.000',\n",
       "  'src': u'data:image/gif;base64,R0lGODdhAQABAPAAAMPDwwAAACwAAAAAAQABAAACAkQBADs='},\n",
       " {'desc': u'Cicilan Rp 283.250/bln',\n",
       "  'name': u'NOKIA 6.1 Plus 4GB/64GB - Black',\n",
       "  'price': u'Rp 3.399.000',\n",
       "  'src': u'data:image/gif;base64,R0lGODdhAQABAPAAAMPDwwAAACwAAAAAAQABAAACAkQBADs='},\n",
       " {'desc': u'Cicilan Rp 216.583/bln',\n",
       "  'name': u'VIVO Y95 4GB/32GB - Aurora Red',\n",
       "  'price': u'Rp 2.699.000-4%',\n",
       "  'src': u'data:image/gif;base64,R0lGODdhAQABAPAAAMPDwwAAACwAAAAAAQABAAACAkQBADs='},\n",
       " {'desc': u'Cicilan Rp 224.917/bln',\n",
       "  'name': u'VIVO Y95 4GB/32GB - Starry Black',\n",
       "  'price': u'Rp 2.699.000',\n",
       "  'src': u'data:image/gif;base64,R0lGODdhAQABAPAAAMPDwwAAACwAAAAAAQABAAACAkQBADs='},\n",
       " {'desc': u'Cicilan Rp 916.583/bln',\n",
       "  'name': u'APPLE iPhone 7 32GB - Silver',\n",
       "  'price': u'Rp 11.999.000-8%',\n",
       "  'src': u'data:image/gif;base64,R0lGODdhAQABAPAAAMPDwwAAACwAAAAAAQABAAACAkQBADs='},\n",
       " {'desc': u'Cicilan Rp 1.141.583/bln',\n",
       "  'name': u'APPLE iPhone 7 128GB - Black',\n",
       "  'price': u'Rp 13.699.000',\n",
       "  'src': u'data:image/gif;base64,R0lGODdhAQABAPAAAMPDwwAAACwAAAAAAQABAAACAkQBADs='},\n",
       " {'desc': u'Cicilan Rp 1.324.917/bln',\n",
       "  'name': u'APPLE iPhone 7 Plus 128GB - Jet Black',\n",
       "  'price': u'Rp 15.899.000',\n",
       "  'src': u'data:image/gif;base64,R0lGODdhAQABAPAAAMPDwwAAACwAAAAAAQABAAACAkQBADs='},\n",
       " {'desc': u'Cicilan Rp 1.324.917/bln',\n",
       "  'name': u'APPLE iPhone 7 Plus 128GB - Silver',\n",
       "  'price': u'Rp 15.899.000',\n",
       "  'src': u'data:image/gif;base64,R0lGODdhAQABAPAAAMPDwwAAACwAAAAAAQABAAACAkQBADs='},\n",
       " {'desc': u'Cicilan Rp 1.324.917/bln',\n",
       "  'name': u'APPLE iPhone 7 Plus 128GB - Rose Gold',\n",
       "  'price': u'Rp 15.899.000',\n",
       "  'src': u'data:image/gif;base64,R0lGODdhAQABAPAAAMPDwwAAACwAAAAAAQABAAACAkQBADs='},\n",
       " {'desc': u'Cicilan Rp 791.583/bln',\n",
       "  'name': u'SAMSUNG Galaxy A80 (SM-A805) 8GB/128GB - Ghost White',\n",
       "  'price': u'Rp 9.499.000',\n",
       "  'src': u'data:image/gif;base64,R0lGODdhAQABAPAAAMPDwwAAACwAAAAAAQABAAACAkQBADs='},\n",
       " {'desc': u'Cicilan Rp 208.250/bln',\n",
       "  'name': u'XIAOMI Redmi Note 8 4GB/64GB - Space Black',\n",
       "  'price': u'Rp 2.499.000',\n",
       "  'src': u'data:image/gif;base64,R0lGODdhAQABAPAAAMPDwwAAACwAAAAAAQABAAACAkQBADs='},\n",
       " {'desc': u'Cicilan Rp 761.760/bln',\n",
       "  'name': u'OPPO Reno2 8GB/256GB - Luminous Black',\n",
       "  'price': u'Rp 9.141.120',\n",
       "  'src': u'data:image/gif;base64,R0lGODdhAQABAPAAAMPDwwAAACwAAAAAAQABAAACAkQBADs='},\n",
       " {'desc': u'Cicilan Rp 761.760/bln',\n",
       "  'name': u'OPPO Reno2 8GB/256GB - Sunset Pink',\n",
       "  'price': u'Rp 9.141.120',\n",
       "  'src': u'data:image/gif;base64,R0lGODdhAQABAPAAAMPDwwAAACwAAAAAAQABAAACAkQBADs='},\n",
       " {'desc': u'Cicilan Rp 339.075/bln',\n",
       "  'name': u'VIVO S1 Pro 8GB/128GB - Glowing Black',\n",
       "  'price': u'Rp 4.068.900',\n",
       "  'src': u'data:image/gif;base64,R0lGODdhAQABAPAAAMPDwwAAACwAAAAAAQABAAACAkQBADs='}]"
      ]
     },
     "execution_count": 27,
     "metadata": {},
     "output_type": "execute_result"
    }
   ],
   "source": [
    "products"
   ]
  },
  {
   "cell_type": "code",
   "execution_count": 13,
   "metadata": {},
   "outputs": [],
   "source": [
    "with open(\"bhinnekaResult.txt\", \"w\") as json_file:\n",
    "    json.dump(products, json_file)"
   ]
  },
  {
   "cell_type": "code",
   "execution_count": 14,
   "metadata": {},
   "outputs": [],
   "source": [
    "driver.close()"
   ]
  },
  {
   "cell_type": "code",
   "execution_count": null,
   "metadata": {},
   "outputs": [],
   "source": []
  }
 ],
 "metadata": {
  "kernelspec": {
   "display_name": "Python 3",
   "language": "python",
   "name": "python3"
  },
  "language_info": {
   "codemirror_mode": {
    "name": "ipython",
    "version": 2
   },
   "file_extension": ".py",
   "mimetype": "text/x-python",
   "name": "python",
   "nbconvert_exporter": "python",
   "pygments_lexer": "ipython2",
   "version": "2.7.17"
  }
 },
 "nbformat": 4,
 "nbformat_minor": 2
}
